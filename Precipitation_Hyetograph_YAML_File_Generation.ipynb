{
 "cells": [
  {
   "cell_type": "markdown",
   "metadata": {},
   "source": [
    "# Generate precipitation time series for the entire precipitation record"
   ]
  },
  {
   "cell_type": "code",
   "execution_count": 3,
   "metadata": {},
   "outputs": [],
   "source": [
    "import yaml\n",
    "import pandas as pd\n",
    "from datetime import datetime\n",
    "# create Pandas data frame from the weather data text file:\n",
    "rain_data_file = pd.read_csv(\"Cohens_rain_data_philly_correct.dat\", skiprows=2,header=None,delim_whitespace=True,\n",
    "                              names=['city','year','month','day','hour','precip_inches'])\n",
    "# Now generate a Pandas time series from the data frame created above \n",
    "# covering the entire period of the rain data file\n",
    "rain_data = pd.Series()\n",
    "for index, row in rain_data_file.iterrows():\n",
    "    timestamp = pd.Timestamp(datetime(row['year'],row['month'],row['day'],row['hour']))\n",
    "    rain_data[timestamp] = row['precip_inches']\n",
    "#print(rain_data)\n",
    "\n",
    "# Store the rain_data Pandas time series in a YAML file:\n",
    "precipTimeSeriesFileNameStr = \"Cohens_rain_data_philly_pandas_time_series.yaml\"\n",
    "f = open(precipTimeSeriesFileNameStr,'w')   \n",
    "yaml.dump(rain_data,f)           # Read the LID ContribImpervArea and GreenedAcres\n",
    "f.close() "
   ]
  },
  {
   "cell_type": "markdown",
   "metadata": {},
   "source": [
    "# Generate 15-min hyetograph for ANALYSIS YEAR"
   ]
  },
  {
   "cell_type": "code",
   "execution_count": 6,
   "metadata": {},
   "outputs": [
    {
     "name": "stderr",
     "output_type": "stream",
     "text": [
      "C:\\ProgramData\\Anaconda3\\lib\\site-packages\\ipykernel_launcher.py:22: FutureWarning: \n",
      ".resample() is now a deferred operation\n",
      "You called resample(...) on this deferred object which materialized it into a series\n",
      "by implicitly taking the mean.  Use .resample(...).mean() instead\n"
     ]
    },
    {
     "data": {
      "text/plain": [
       "<matplotlib.axes._subplots.AxesSubplot at 0x1e8c7b750f0>"
      ]
     },
     "execution_count": 6,
     "metadata": {},
     "output_type": "execute_result"
    },
    {
     "data": {
      "image/png": "[encoded data removed]",
      "text/plain": [
       "<matplotlib.figure.Figure at 0x1e8c7b8cf98>"
      ]
     },
     "metadata": {},
     "output_type": "display_data"
    }
   ],
   "source": [
    "import yaml\n",
    "import pandas as pd\n",
    "from datetime import datetime\n",
    "\n",
    "# For the year chosen for analysis, specify the starting and ending times\n",
    "startDateTimeAnalysisYear = datetime(2012,7,1,0,0)\n",
    "endDateTimeAnalysisYear = datetime(2013,6,30,23,45)\n",
    "\n",
    "precipTimeSeriesFileNameStr = \"Cohens_rain_data_philly_pandas_time_series.yaml\"\n",
    "f = open(precipTimeSeriesFileNameStr,'r')   \n",
    "rain_data = yaml.load(f)           # Read the LID ContribImpervArea and GreenedAcres\n",
    "f.close()\n",
    "# reduce precipitation time series to include only the simulation period:\n",
    "rain_data_analysis_year = rain_data[startDateTimeAnalysisYear:endDateTimeAnalysisYear]\n",
    "# first upsample to create hourly data, repalcing NaNs with zeros\n",
    "\n",
    "#rainDataSimulationPeriodHourly = rain_data_simulation_period.resample('H').ffill().fillna(0)\n",
    "rainDataAnalysisYearHourly = rain_data_analysis_year.resample('H')\n",
    "\n",
    "\n",
    "# now create a 15 minute hyetograph series\n",
    "hyetographTimeSeriesAnalysisYear15Min = rainDataAnalysisYearHourly.resample('15min').ffill().fillna(0)\n",
    "\n",
    "# store the 15 minute hyetograph for the entire analysis year in a YAML file:\n",
    "hyetographTimeSeriesAnalysisYear15MinFileName = \"Cohens_rain_data_15min_hyetograph_analysis_year.yaml\"\n",
    "f = open(hyetographTimeSeriesAnalysisYear15MinFileName,'w')\n",
    "yaml.dump(hyetographTimeSeriesAnalysisYear15Min,f)\n",
    "f.close()\n",
    "\n",
    "# Plot the 15 min hyetograph for the analysis year\n",
    "hyetographTimeSeriesAnalysisYear15Min.plot()"
   ]
  },
  {
   "cell_type": "code",
   "execution_count": null,
   "metadata": {},
   "outputs": [],
   "source": []
  }
 ],
 "metadata": {
  "kernelspec": {
   "display_name": "Python 3",
   "language": "python",
   "name": "python3"
  },
  "language_info": {
   "codemirror_mode": {
    "name": "ipython",
    "version": 3
   },
   "file_extension": ".py",
   "mimetype": "text/x-python",
   "name": "python",
   "nbconvert_exporter": "python",
   "pygments_lexer": "ipython3",
   "version": "3.6.4"
  }
 },
 "nbformat": 4,
 "nbformat_minor": 2
}
